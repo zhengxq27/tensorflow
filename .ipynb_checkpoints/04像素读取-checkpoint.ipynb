{
 "cells": [
  {
   "cell_type": "code",
   "execution_count": null,
   "metadata": {},
   "outputs": [
    {
     "name": "stdout",
     "output_type": "stream",
     "text": [
      "116 87 78\n"
     ]
    }
   ],
   "source": [
    "import cv2\n",
    "img = cv2.imread('image.jpg',1)\n",
    "(b,g,r) = img[100,100]\n",
    "print(b,g,r) #格式为bgr\n",
    "# 10 100 --- 110 100\n",
    "for i in range(1,100):\n",
    "    img[100,100+i] = (0,0,255)\n",
    "cv2.imshow('image',img)\n",
    "cv2.waitKey(0)\n"
   ]
  },
  {
   "cell_type": "code",
   "execution_count": null,
   "metadata": {},
   "outputs": [],
   "source": []
  }
 ],
 "metadata": {
  "kernelspec": {
   "display_name": "Python 3",
   "language": "python",
   "name": "python3"
  },
  "language_info": {
   "codemirror_mode": {
    "name": "ipython",
    "version": 3
   },
   "file_extension": ".py",
   "mimetype": "text/x-python",
   "name": "python",
   "nbconvert_exporter": "python",
   "pygments_lexer": "ipython3",
   "version": "3.6.8"
  }
 },
 "nbformat": 4,
 "nbformat_minor": 2
}
