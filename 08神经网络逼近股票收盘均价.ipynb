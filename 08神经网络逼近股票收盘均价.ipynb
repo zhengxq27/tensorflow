{
 "cells": [
  {
   "cell_type": "code",
   "execution_count": 6,
   "metadata": {},
   "outputs": [
    {
     "name": "stdout",
     "output_type": "stream",
     "text": [
      "[ 1.  2.  3.  4.  5.  6.  7.  8.  9. 10. 11. 12. 13. 14. 15.]\n"
     ]
    },
    {
     "data": {
      "image/png": "[encoded data removed]",
      "text/plain": [
       "<Figure size 432x288 with 1 Axes>"
      ]
     },
     "metadata": {
      "needs_background": "light"
     },
     "output_type": "display_data"
    }
   ],
   "source": [
    "import tensorflow as tf\n",
    "import numpy as np\n",
    "import matplotlib.pyplot as plt\n",
    "date = np.linspace(1,15,15)\n",
    "endPrice = np.array([2511,2538,2510,2591,2732,2701,2701,2678,2726,2681,\n",
    "                     2739,2715,2823,2864,2919])\n",
    "beginPrice = np.array([2438,2500,2534,2512,2594,2743,2697,2695,2678,2722,\n",
    "                       2674,2744,2717,2832,2877])\n",
    "print(date)\n",
    "plt.figure()\n",
    "for i in range(0,15):\n",
    "    # 1.柱状图\n",
    "    dateOne = np.zeros([2])\n",
    "    dateOne[0] = i;\n",
    "    dateOne[1] = i;\n",
    "    priceOne = np.zeros([2])\n",
    "    priceOne[0] = beginPrice[i]\n",
    "    priceOne[1] = endPrice[i]\n",
    "    if endPrice[i] > beginPrice[i]:\n",
    "        plt.plot(dateOne,priceOne,'r',lw = 8)\n",
    "    else:\n",
    "        plt.plot(dateOne,priceOne,'g',lw = 8)\n",
    "plt.show()"
   ]
  },
  {
   "cell_type": "code",
   "execution_count": null,
   "metadata": {},
   "outputs": [],
   "source": []
  }
 ],
 "metadata": {
  "kernelspec": {
   "display_name": "Python 3",
   "language": "python",
   "name": "python3"
  },
  "language_info": {
   "codemirror_mode": {
    "name": "ipython",
    "version": 3
   },
   "file_extension": ".py",
   "mimetype": "text/x-python",
   "name": "python",
   "nbconvert_exporter": "python",
   "pygments_lexer": "ipython3",
   "version": "3.6.8"
  }
 },
 "nbformat": 4,
 "nbformat_minor": 2
}
